{
 "cells": [
  {
   "cell_type": "markdown",
   "metadata": {},
   "source": [
    "Archivo artista.py"
   ]
  },
  {
   "cell_type": "code",
   "execution_count": null,
   "metadata": {},
   "outputs": [],
   "source": [
    "class Artista:\n",
    "    @property\n",
    "    def afinidad_con(self):\n",
    "        return self._afinidad_con\n",
    "\n",
    "    @afinidad_con.setter\n",
    "    def afinidad_con(self, valor):\n",
    "        if AFINIDAD_MIN < nuevo_valor < AFINIDAD_MAX:\n",
    "            self._afinidad_con = valor\n",
    "        else: \n",
    "            self._afinidad_con = 100 if valor >100 else 0\n",
    "\n",
    "    @property\n",
    "    def animo(self):\n",
    "        return (self.afinidad_con + self.afinidad_con)*0.5\n",
    "\n",
    "    def cantar_hit():\n",
    "        pass\n",
    "\n",
    "class ArtistaPop(Artista):\n",
    "def __init__(self, *args, **kwargs):\n",
    "    self._afinidad_con_publico = AFINIDAD_PUBLICO_POP\n",
    "    self._afinidad_con_staff = AFINIDAD_STAFF_POP\n",
    "    super().__init__(self, *args, **kwargs)\n",
    "    self.accion = 'Cambio de vestuario'\n",
    "\n",
    "@property\n",
    "def animo(self, nuevo_valor):\n",
    "    valor = super().animo"
   ]
  }
 ],
 "metadata": {
  "kernelspec": {
   "display_name": "Python 3.10.6 64-bit",
   "language": "python",
   "name": "python3"
  },
  "language_info": {
   "name": "python",
   "version": "3.10.6"
  },
  "orig_nbformat": 4,
  "vscode": {
   "interpreter": {
    "hash": "53bbf252acf67e3e68e0f550ead2f5631ef87c77cadffc75f9f743b4e1bcdfe0"
   }
  }
 },
 "nbformat": 4,
 "nbformat_minor": 2
}
